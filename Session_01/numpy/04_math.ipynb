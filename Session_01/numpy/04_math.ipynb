{
 "cells": [
  {
   "cell_type": "code",
   "execution_count": 1,
   "metadata": {},
   "outputs": [],
   "source": [
    "import numpy as np"
   ]
  },
  {
   "cell_type": "code",
   "execution_count": 12,
   "metadata": {},
   "outputs": [
    {
     "data": {
      "text/plain": [
       "array([[-0.36713199, -0.75928252, -0.96936324, -0.14613024, -0.8851043 ],\n",
       "       [ 2.16348045, -0.23558594, -0.8593813 ,  2.91080246, -1.7028278 ],\n",
       "       [-0.51867437,  0.49900126,  0.885237  ,  1.50554699, -0.35848382],\n",
       "       [ 1.57698425, -0.55300313, -0.32790432,  0.65558624, -0.33772899]])"
      ]
     },
     "execution_count": 12,
     "metadata": {},
     "output_type": "execute_result"
    }
   ],
   "source": [
    "array = np.random.standard_normal((4,5))\n",
    "array"
   ]
  },
  {
   "cell_type": "code",
   "execution_count": 19,
   "metadata": {},
   "outputs": [
    {
     "data": {
      "text/plain": [
       "array([-0.36713199, -0.75928252, -0.96936324, -0.14613024, -0.8851043 ,\n",
       "        2.16348045, -0.23558594, -0.8593813 ,  2.91080246, -1.7028278 ,\n",
       "       -0.51867437,  0.49900126,  0.885237  ,  1.50554699, -0.35848382,\n",
       "        1.57698425, -0.55300313, -0.32790432,  0.65558624, -0.33772899])"
      ]
     },
     "execution_count": 19,
     "metadata": {},
     "output_type": "execute_result"
    }
   ],
   "source": [
    "array.reshape((20,))"
   ]
  },
  {
   "cell_type": "code",
   "execution_count": 7,
   "metadata": {},
   "outputs": [],
   "source": [
    "x = np.linspace(0,10,100)\n",
    "sinx = np.sin(x)\n",
    "cosx = np.cos(x)"
   ]
  },
  {
   "cell_type": "code",
   "execution_count": 20,
   "metadata": {
    "scrolled": true
   },
   "outputs": [
    {
     "data": {
      "text/plain": [
       "1.6882473430775704"
      ]
     },
     "execution_count": 20,
     "metadata": {},
     "output_type": "execute_result"
    }
   ],
   "source": [
    "np.dot(sinx,cosx)"
   ]
  },
  {
   "cell_type": "code",
   "execution_count": 21,
   "metadata": {},
   "outputs": [
    {
     "data": {
      "text/plain": [
       "array([1., 1., 1., 1., 1.])"
      ]
     },
     "execution_count": 21,
     "metadata": {},
     "output_type": "execute_result"
    }
   ],
   "source": [
    "ones = np.ones((5,))\n",
    "ones"
   ]
  },
  {
   "cell_type": "code",
   "execution_count": 22,
   "metadata": {},
   "outputs": [
    {
     "data": {
      "text/plain": [
       "array([-2., -1.,  0.,  1.,  2.])"
      ]
     },
     "execution_count": 22,
     "metadata": {},
     "output_type": "execute_result"
    }
   ],
   "source": [
    "line_space = np.linspace(-2, 2, 5)\n",
    "line_space"
   ]
  },
  {
   "cell_type": "code",
   "execution_count": 23,
   "metadata": {},
   "outputs": [
    {
     "data": {
      "text/plain": [
       "array([[-2., -1.,  0.,  1.,  2.],\n",
       "       [-2., -1.,  0.,  1.,  2.],\n",
       "       [-2., -1.,  0.,  1.,  2.],\n",
       "       [-2., -1.,  0.,  1.,  2.],\n",
       "       [-2., -1.,  0.,  1.,  2.]])"
      ]
     },
     "execution_count": 23,
     "metadata": {},
     "output_type": "execute_result"
    }
   ],
   "source": [
    "rl = np.outer(ones,line_space)\n",
    "rl"
   ]
  },
  {
   "cell_type": "markdown",
   "metadata": {},
   "source": [
    "### np.dot"
   ]
  },
  {
   "cell_type": "code",
   "execution_count": 27,
   "metadata": {},
   "outputs": [
    {
     "data": {
      "text/plain": [
       "array([[3., 3., 3., 3., 3.],\n",
       "       [3., 3., 3., 3., 3.],\n",
       "       [3., 3., 3., 3., 3.],\n",
       "       [3., 3., 3., 3., 3.],\n",
       "       [3., 3., 3., 3., 3.],\n",
       "       [3., 3., 3., 3., 3.]])"
      ]
     },
     "execution_count": 27,
     "metadata": {},
     "output_type": "execute_result"
    }
   ],
   "source": [
    "ones = np.ones((6,5)) * 3\n",
    "ones"
   ]
  },
  {
   "cell_type": "code",
   "execution_count": 28,
   "metadata": {},
   "outputs": [
    {
     "data": {
      "text/plain": [
       "(6, 5)"
      ]
     },
     "execution_count": 28,
     "metadata": {},
     "output_type": "execute_result"
    }
   ],
   "source": [
    "ones.shape"
   ]
  },
  {
   "cell_type": "code",
   "execution_count": 29,
   "metadata": {},
   "outputs": [
    {
     "data": {
      "text/plain": [
       "array([[3., 3., 3., 3., 3., 3.],\n",
       "       [3., 3., 3., 3., 3., 3.],\n",
       "       [3., 3., 3., 3., 3., 3.],\n",
       "       [3., 3., 3., 3., 3., 3.],\n",
       "       [3., 3., 3., 3., 3., 3.]])"
      ]
     },
     "execution_count": 29,
     "metadata": {},
     "output_type": "execute_result"
    }
   ],
   "source": [
    "ones_reshaped = ones.reshape(5,6)\n",
    "ones_reshaped"
   ]
  },
  {
   "cell_type": "code",
   "execution_count": 30,
   "metadata": {},
   "outputs": [
    {
     "data": {
      "text/plain": [
       "array([[54., 54., 54., 54., 54.],\n",
       "       [54., 54., 54., 54., 54.],\n",
       "       [54., 54., 54., 54., 54.],\n",
       "       [54., 54., 54., 54., 54.],\n",
       "       [54., 54., 54., 54., 54.]])"
      ]
     },
     "execution_count": 30,
     "metadata": {},
     "output_type": "execute_result"
    }
   ],
   "source": [
    "np.dot(ones_reshaped , ones)"
   ]
  },
  {
   "cell_type": "markdown",
   "metadata": {},
   "source": [
    "### example:"
   ]
  },
  {
   "cell_type": "code",
   "execution_count": 32,
   "metadata": {},
   "outputs": [],
   "source": [
    "A = np.array([[1,2],[3,5],[7,6]])\n",
    "p = np.diag([5,5,5])\n",
    "l = np.array([7,3, 2]).reshape((3,1))\n"
   ]
  },
  {
   "cell_type": "code",
   "execution_count": 33,
   "metadata": {},
   "outputs": [
    {
     "data": {
      "text/plain": [
       "array([[-1.32485876],\n",
       "       [ 1.83333333]])"
      ]
     },
     "execution_count": 33,
     "metadata": {},
     "output_type": "execute_result"
    }
   ],
   "source": [
    "np.dot(np.dot(np.dot(np.linalg.inv(np.dot(np.dot(A.T,p),A)),A.T),p),l)"
   ]
  },
  {
   "cell_type": "markdown",
   "metadata": {},
   "source": [
    "### check the shape and do A'PL"
   ]
  },
  {
   "cell_type": "code",
   "execution_count": null,
   "metadata": {},
   "outputs": [],
   "source": []
  },
  {
   "cell_type": "markdown",
   "metadata": {},
   "source": [
    "### numpy where"
   ]
  },
  {
   "cell_type": "code",
   "execution_count": 9,
   "metadata": {},
   "outputs": [
    {
     "data": {
      "text/plain": [
       "array([3, 4])"
      ]
     },
     "execution_count": 9,
     "metadata": {},
     "output_type": "execute_result"
    }
   ],
   "source": [
    "array = np.array([1,2,3,4])\n",
    "rows = np.where(array >= 2.5)\n",
    "array[rows]"
   ]
  },
  {
   "cell_type": "code",
   "execution_count": 6,
   "metadata": {},
   "outputs": [],
   "source": [
    "t = np.array([[1,2,3,'foo'],\n",
    " [2,3,4,'bar'],\n",
    " [5,6,7,'hello'],\n",
    " [8,9,1,'bar']])"
   ]
  },
  {
   "cell_type": "code",
   "execution_count": 12,
   "metadata": {},
   "outputs": [
    {
     "data": {
      "text/plain": [
       "array([['2', '3', '4', 'bar'],\n",
       "       ['8', '9', '1', 'bar']], dtype='<U11')"
      ]
     },
     "execution_count": 12,
     "metadata": {},
     "output_type": "execute_result"
    }
   ],
   "source": [
    "rows , cols = np.where(t == 'bar')\n",
    "t[rows]"
   ]
  },
  {
   "cell_type": "code",
   "execution_count": 14,
   "metadata": {},
   "outputs": [
    {
     "data": {
      "text/plain": [
       "(array([1, 3], dtype=int64), array([3, 3], dtype=int64))"
      ]
     },
     "execution_count": 14,
     "metadata": {},
     "output_type": "execute_result"
    }
   ],
   "source": [
    "rows, cols"
   ]
  },
  {
   "cell_type": "code",
   "execution_count": 15,
   "metadata": {},
   "outputs": [
    {
     "data": {
      "text/plain": [
       "array([[[ 0.51240753,  2.28609226, -0.44117211],\n",
       "        [ 2.06164266,  1.09456158,  1.22166665],\n",
       "        [-0.66520789,  1.5000412 ,  1.54596543],\n",
       "        [ 0.73281986,  3.02937594, -0.95555157],\n",
       "        [ 0.75733433, -0.84443455,  0.3129516 ]],\n",
       "\n",
       "       [[ 0.89814288, -0.30968381, -0.23474092],\n",
       "        [ 0.05880609,  0.02703437,  2.00029908],\n",
       "        [ 0.74634565,  1.25066639,  2.03310231],\n",
       "        [ 0.42857288, -0.78326455,  1.01061598],\n",
       "        [ 0.45741054, -0.74671491,  0.41503907]],\n",
       "\n",
       "       [[ 0.80335544,  1.12720072, -1.1303238 ],\n",
       "        [-1.27760025, -1.33987789, -0.35893175],\n",
       "        [ 0.37256469, -0.06233023,  0.23712224],\n",
       "        [-0.12688497,  0.22739639,  1.3269323 ],\n",
       "        [ 0.88241551, -1.28972705, -1.42758318]],\n",
       "\n",
       "       [[ 1.39777531,  0.45342728, -2.35943149],\n",
       "        [ 1.65339637,  1.44645747, -0.20487503],\n",
       "        [-1.7837175 ,  0.97878316, -0.67431872],\n",
       "        [-1.65441639,  1.70401029,  0.93265948],\n",
       "        [ 1.04217376,  0.95346608,  1.07123978]],\n",
       "\n",
       "       [[-0.58820396,  1.26824649, -1.03452865],\n",
       "        [-1.53706016, -0.00940356,  0.26588334],\n",
       "        [-1.02019575, -1.87289936, -0.09663429],\n",
       "        [-1.01028943, -0.49267745,  1.24249097],\n",
       "        [ 0.09361085,  0.52441651, -0.23023152]]])"
      ]
     },
     "execution_count": 15,
     "metadata": {},
     "output_type": "execute_result"
    }
   ],
   "source": [
    "array = np.random.standard_normal((5,5,3))\n",
    "array"
   ]
  },
  {
   "cell_type": "code",
   "execution_count": 16,
   "metadata": {
    "scrolled": true
   },
   "outputs": [
    {
     "data": {
      "text/plain": [
       "array([2.28609226, 2.06164266, 1.09456158, 1.22166665, 1.5000412 ,\n",
       "       1.54596543, 3.02937594, 2.00029908, 1.25066639, 2.03310231,\n",
       "       1.01061598, 1.12720072, 1.3269323 , 1.39777531, 1.65339637,\n",
       "       1.44645747, 1.70401029, 1.04217376, 1.07123978, 1.26824649,\n",
       "       1.24249097])"
      ]
     },
     "execution_count": 16,
     "metadata": {},
     "output_type": "execute_result"
    }
   ],
   "source": [
    "rows, cols, heights = np.where(array >= 1)\n",
    "array[rows, cols, heights]"
   ]
  },
  {
   "cell_type": "markdown",
   "metadata": {},
   "source": [
    "*:)*"
   ]
  }
 ],
 "metadata": {
  "kernelspec": {
   "display_name": "Python 3",
   "language": "python",
   "name": "python3"
  },
  "language_info": {
   "codemirror_mode": {
    "name": "ipython",
    "version": 3
   },
   "file_extension": ".py",
   "mimetype": "text/x-python",
   "name": "python",
   "nbconvert_exporter": "python",
   "pygments_lexer": "ipython3",
   "version": "3.6.8"
  }
 },
 "nbformat": 4,
 "nbformat_minor": 1
}
