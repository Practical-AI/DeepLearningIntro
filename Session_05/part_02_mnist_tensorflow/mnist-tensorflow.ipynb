{
 "cells": [
  {
   "cell_type": "code",
   "execution_count": 1,
   "metadata": {},
   "outputs": [
    {
     "name": "stderr",
     "output_type": "stream",
     "text": [
      "Using TensorFlow backend.\n"
     ]
    }
   ],
   "source": [
    "from keras.datasets import mnist\n",
    "from keras.utils import to_categorical\n",
    "import tensorflow as tf\n",
    "import numpy as np\n",
    "import matplotlib.pyplot as plt\n",
    "from sklearn.metrics import accuracy_score"
   ]
  },
  {
   "cell_type": "markdown",
   "metadata": {},
   "source": [
    "## Hyper parameters"
   ]
  },
  {
   "cell_type": "code",
   "execution_count": 2,
   "metadata": {},
   "outputs": [
    {
     "data": {
      "image/png": "[encoded data removed]",
      "text/plain": [
       "<Figure size 432x288 with 1 Axes>"
      ]
     },
     "metadata": {},
     "output_type": "display_data"
    },
    {
     "name": "stdout",
     "output_type": "stream",
     "text": [
      "(60000, 784) (60000, 10)\n"
     ]
    }
   ],
   "source": [
    "(x_train,y_train), (x_test, y_test) = mnist.load_data()\n",
    "n_outputs = len(np.unique(y_train))\n",
    "image_size = x_train.shape[1]\n",
    "\n",
    "plt.imshow(x_train[0])\n",
    "plt.show()\n",
    "\n",
    "x_train = x_train.reshape((-1,image_size * image_size)).astype('float32')/255\n",
    "x_test = x_test.reshape((-1,image_size * image_size)).astype('float32')/255\n",
    "\n",
    "y_train = to_categorical(y_train)\n",
    "y_test = to_categorical(y_test)\n",
    "\n",
    "hidden_layers = [256, 256]\n",
    "n_inputs = image_size * image_size\n",
    "n_epochs = 10\n",
    "batch_size = 32\n",
    "m_train = x_train.shape[0]\n",
    "print(x_train.shape,y_train.shape)"
   ]
  },
  {
   "cell_type": "code",
   "execution_count": 3,
   "metadata": {},
   "outputs": [],
   "source": [
    "with tf.name_scope('placeholders'):\n",
    "    x_p = tf.placeholder(dtype=tf.float32,shape=[None, n_inputs],name='x_p')\n",
    "    y_p = tf.placeholder(dtype=tf.float32,shape=[None, n_outputs],name='y_p')\n",
    "    keep_prob_p = tf.placeholder(dtype=tf.float32,name='keep_prop')"
   ]
  },
  {
   "cell_type": "code",
   "execution_count": 4,
   "metadata": {},
   "outputs": [
    {
     "name": "stderr",
     "output_type": "stream",
     "text": [
      "WARNING: Logging before flag parsing goes to stderr.\n",
      "W0722 20:05:54.655993  1712 deprecation.py:506] From <ipython-input-4-3fe6f9feace3>:5: calling dropout (from tensorflow.python.ops.nn_ops) with keep_prob is deprecated and will be removed in a future version.\n",
      "Instructions for updating:\n",
      "Please use `rate` instead of `keep_prob`. Rate should be set to `rate = 1 - keep_prob`.\n"
     ]
    }
   ],
   "source": [
    "with tf.name_scope('hidden_layer_1'):\n",
    "    weight_1 = tf.Variable(tf.random_normal(stddev=0.01, shape=(n_inputs,hidden_layers[0])), dtype=tf.float32,name='w_1')\n",
    "    bias_1 = tf.Variable(tf.random_normal(stddev=0.01, shape=(hidden_layers[0],)), dtype=tf.float32,name='b_1')\n",
    "    hidden_layer_1 = tf.nn.relu(tf.matmul(x_p,weight_1) + bias_1)\n",
    "    hidden_layer_1 = tf.nn.dropout(hidden_layer_1,keep_prob=keep_prob_p)\n",
    "    "
   ]
  },
  {
   "cell_type": "code",
   "execution_count": 5,
   "metadata": {},
   "outputs": [],
   "source": [
    "with tf.name_scope('hidden_layer_2'):\n",
    "    weight_2 = tf.Variable(tf.random_normal(stddev=0.01, shape=(hidden_layers[0],hidden_layers[1])), dtype=tf.float32,name='w_2')\n",
    "    bias_2 = tf.Variable(tf.random_normal(stddev=0.01, shape=(hidden_layers[1],)), dtype=tf.float32,name='b_2')\n",
    "    hidden_layer_2 = tf.nn.relu(tf.matmul(hidden_layer_1,weight_2) + bias_2)\n",
    "    hidden_layer_2 = tf.nn.dropout(hidden_layer_2,keep_prob=keep_prob_p)"
   ]
  },
  {
   "cell_type": "code",
   "execution_count": 6,
   "metadata": {},
   "outputs": [],
   "source": [
    "with tf.name_scope('ouput_layer'):\n",
    "    weight_output = tf.Variable(tf.random_normal(stddev=0.01, shape=(hidden_layers[-1], n_outputs)), dtype=tf.float32,name='w_outputs')\n",
    "    bias_output = tf.Variable(tf.random_normal(stddev=0.01, shape=(n_outputs,)), dtype=tf.float32,name='b_outputs')\n",
    "    logits = tf.matmul(hidden_layer_2,weight_output) + bias_output\n",
    "    y_predict_t = tf.nn.softmax(logits)"
   ]
  },
  {
   "cell_type": "code",
   "execution_count": 7,
   "metadata": {},
   "outputs": [],
   "source": [
    "with tf.name_scope('accuracy'):\n",
    "    equallity_check = tf.equal(tf.argmax(y_predict_t,axis=1),tf.argmax(y_p,axis=1))\n",
    "    accuracy_op = tf.reduce_mean(tf.cast(equallity_check,tf.float32))\n"
   ]
  },
  {
   "cell_type": "code",
   "execution_count": 8,
   "metadata": {},
   "outputs": [
    {
     "name": "stderr",
     "output_type": "stream",
     "text": [
      "W0722 20:05:54.790743  1712 deprecation.py:323] From <ipython-input-8-f71e65a31072>:2: softmax_cross_entropy_with_logits (from tensorflow.python.ops.nn_ops) is deprecated and will be removed in a future version.\n",
      "Instructions for updating:\n",
      "\n",
      "Future major versions of TensorFlow will allow gradients to flow\n",
      "into the labels input on backprop by default.\n",
      "\n",
      "See `tf.nn.softmax_cross_entropy_with_logits_v2`.\n",
      "\n"
     ]
    }
   ],
   "source": [
    "with tf.name_scope('loss'):\n",
    "    entropy = tf.nn.softmax_cross_entropy_with_logits(logits=logits,labels=y_p)\n",
    "    loss_op = tf.reduce_mean(entropy)"
   ]
  },
  {
   "cell_type": "code",
   "execution_count": 9,
   "metadata": {},
   "outputs": [],
   "source": [
    "with tf.name_scope('optimizer'):\n",
    "    optimizer = tf.train.AdamOptimizer().minimize(loss_op)"
   ]
  },
  {
   "cell_type": "code",
   "execution_count": 10,
   "metadata": {},
   "outputs": [],
   "source": [
    "with tf.name_scope('summary'):\n",
    "    tf.summary.scalar('loss', loss_op)\n",
    "    merged = tf.summary.merge_all()\n",
    "train_writer = tf.summary.FileWriter('./tf_logs',tf.get_default_graph())"
   ]
  },
  {
   "cell_type": "code",
   "execution_count": 12,
   "metadata": {},
   "outputs": [
    {
     "name": "stdout",
     "output_type": "stream",
     "text": [
      "test accuracy(tensor): 0.9459999799728394\n",
      "test accuracy: 0.946,loss value: 0.1728910207748413\n",
      "test accuracy(tensor): 0.9624000191688538\n",
      "test accuracy: 0.9624,loss value: 0.12553109228610992\n",
      "test accuracy(tensor): 0.9677000045776367\n",
      "test accuracy: 0.9677,loss value: 0.11311735957860947\n",
      "test accuracy(tensor): 0.9714000225067139\n",
      "test accuracy: 0.9714,loss value: 0.09969038516283035\n",
      "test accuracy(tensor): 0.9699000120162964\n",
      "test accuracy: 0.9699,loss value: 0.09671937674283981\n",
      "test accuracy(tensor): 0.9757999777793884\n",
      "test accuracy: 0.9758,loss value: 0.08983563631772995\n",
      "test accuracy(tensor): 0.9753000140190125\n",
      "test accuracy: 0.9753,loss value: 0.08866611868143082\n",
      "test accuracy(tensor): 0.9732999801635742\n",
      "test accuracy: 0.9733,loss value: 0.09288728982210159\n",
      "test accuracy(tensor): 0.9722999930381775\n",
      "test accuracy: 0.9723,loss value: 0.09575752913951874\n",
      "test accuracy(tensor): 0.975600004196167\n",
      "test accuracy: 0.9756,loss value: 0.0833231583237648\n"
     ]
    }
   ],
   "source": [
    "init = tf.global_variables_initializer()\n",
    "with tf.Session() as sess:\n",
    "    sess.run(init)\n",
    "    step = 1\n",
    "    for epoch in range(1 , n_epochs + 1):\n",
    "        pos = 0\n",
    "        while pos < m_train:\n",
    "            x_batch = x_train[pos: pos + batch_size]\n",
    "            y_batch = y_train[pos: pos + batch_size]\n",
    "            \n",
    "            feed_dict = {x_p: x_batch, y_p: y_batch,keep_prob_p:0.5}\n",
    "            summary, _ = sess.run([merged, optimizer],feed_dict=feed_dict)\n",
    "            train_writer.add_summary(summary, step)\n",
    "        \n",
    "#             print(f'epoch: {epoch}, step:{step}, loss_value: {loss_value}')\n",
    "            \n",
    "            step += 1\n",
    "            pos += batch_size\n",
    "        y_predict = sess.run(y_predict_t, feed_dict={x_p: x_test,keep_prob_p:1})\n",
    "        acc = accuracy_score(y_true=np.argmax(y_test,axis=1),y_pred=np.argmax(y_predict,axis=1))\n",
    "        accuracy_value,loss_value = sess.run([accuracy_op,loss_op], feed_dict={x_p: x_test, y_p:y_test, keep_prob_p:1})\n",
    "        print(f'test accuracy(tensor): {accuracy_value}')\n",
    "        print(f'test accuracy: {acc},loss value: {loss_value}')\n",
    "            \n",
    "    "
   ]
  },
  {
   "cell_type": "markdown",
   "metadata": {},
   "source": [
    "*:)*"
   ]
  }
 ],
 "metadata": {
  "kernelspec": {
   "display_name": "Python 3",
   "language": "python",
   "name": "python3"
  },
  "language_info": {
   "codemirror_mode": {
    "name": "ipython",
    "version": 3
   },
   "file_extension": ".py",
   "mimetype": "text/x-python",
   "name": "python",
   "nbconvert_exporter": "python",
   "pygments_lexer": "ipython3",
   "version": "3.6.5"
  }
 },
 "nbformat": 4,
 "nbformat_minor": 2
}
