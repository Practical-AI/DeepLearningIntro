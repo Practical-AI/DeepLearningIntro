{
 "cells": [
  {
   "cell_type": "markdown",
   "metadata": {},
   "source": [
    "1. Create three 2D tensors(A,P,L) using normal distribution in tensorflow\n",
    "2. Implement the following operation:\n",
    "\n",
    "    $(A'PA)^{-1}A'PL$\n",
    "\n",
    "    A is Placeholder(matrix),\n",
    "\n",
    "    P is Variable(Diagonal Square matrix) ,\n",
    "\n",
    "    L is Constant(1D vector)\n",
    "3. print the result"
   ]
  },
  {
   "cell_type": "code",
   "execution_count": 4,
   "metadata": {},
   "outputs": [
    {
     "data": {
      "text/plain": [
       "TensorShape([Dimension(2), Dimension(2)])"
      ]
     },
     "execution_count": 4,
     "metadata": {},
     "output_type": "execute_result"
    }
   ],
   "source": [
    "A = tf.placeholder(shape=[2,1],dtype=tf.float32)\n",
    "P = tf.Variable(tf.eye(2),dtype=tf.float32)\n",
    "P.shape"
   ]
  },
  {
   "cell_type": "code",
   "execution_count": 1,
   "metadata": {},
   "outputs": [],
   "source": [
    "import tensorflow as tf\n",
    "tf.transpose()\n",
    "tf.linalg.inv"
   ]
  },
  {
   "cell_type": "code",
   "execution_count": 13,
   "metadata": {},
   "outputs": [
    {
     "name": "stdout",
     "output_type": "stream",
     "text": [
      "output [[-0.3368587 ]\n",
      " [ 3.8536978 ]\n",
      " [-0.01704627]\n",
      " [ 2.5242815 ]\n",
      " [-4.7090816 ]]\n"
     ]
    }
   ],
   "source": [
    "import numpy as np\n",
    "import tensorflow as tf\n",
    "A = tf.placeholder(dtype=tf.float32,shape=[5,5])\n",
    "AT = tf.transpose(A)\n",
    "P = tf.eye(5)\n",
    "L = tf.Variable([[.3],[.8],[1.4],[.79],[.5]],dtype=tf.float32)\n",
    "o1 = tf.matmul(AT,P)\n",
    "o2 = tf.matmul(o1,A)\n",
    "o3 = tf.linalg.inv(o2)\n",
    "o4 = tf.matmul(o3,AT)\n",
    "o5 = tf.matmul(o4,P)\n",
    "o6 = tf.matmul(o5,L)\n",
    "\n",
    "init=tf.global_variables_initializer()\n",
    "\n",
    "with tf.Session() as sess:\n",
    "    sess.run(init)\n",
    "    output = sess.run(o6,{A:np.random.rand(5,5)})\n",
    "    print('output' ,output)"
   ]
  },
  {
   "cell_type": "markdown",
   "metadata": {},
   "source": [
    "*:)*"
   ]
  }
 ],
 "metadata": {
  "kernelspec": {
   "display_name": "Python 3",
   "language": "python",
   "name": "python3"
  },
  "language_info": {
   "codemirror_mode": {
    "name": "ipython",
    "version": 3
   },
   "file_extension": ".py",
   "mimetype": "text/x-python",
   "name": "python",
   "nbconvert_exporter": "python",
   "pygments_lexer": "ipython3",
   "version": "3.6.5"
  }
 },
 "nbformat": 4,
 "nbformat_minor": 2
}
